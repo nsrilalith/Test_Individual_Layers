{
 "cells": [
  {
   "cell_type": "code",
   "execution_count": 1,
   "metadata": {},
   "outputs": [],
   "source": [
    "import tensorflow as tf\n",
    "from tensorflow.keras.models import Sequential\n",
    "from tensorflow.keras.layers import Conv2D, Flatten, Dense\n",
    "from tensorflow.keras.optimizers import Adam\n",
    "from tensorflow.keras.losses import SparseCategoricalCrossentropy\n",
    "\n",
    "# Define the model\n",
    "model = Sequential([\n",
    "    Conv2D(32, kernel_size=(3, 3), activation='relu', input_shape=(28, 28, 1)),\n",
    "    Flatten(),\n",
    "    Dense(10, activation='softmax')\n",
    "])\n",
    "\n",
    "# Compile the model\n",
    "model.compile(optimizer=Adam(),\n",
    "              loss=SparseCategoricalCrossentropy(),\n",
    "              metrics=['accuracy'])"
   ]
  },
  {
   "cell_type": "code",
   "execution_count": 9,
   "metadata": {},
   "outputs": [],
   "source": [
    "# Load the MNIST dataset\n",
    "mnist = tf.keras.datasets.mnist\n",
    "(x_train, y_train), (x_test, y_test) = mnist.load_data()\n",
    "\n",
    "# Normalize the data\n",
    "x_train = x_train / 255.0\n",
    "x_test = x_test / 255.0\n",
    "\n",
    "# Reshape the data to add the channel dimension\n",
    "x_train = x_train.reshape(-1, 28, 28, 1)\n",
    "x_test = x_test.reshape(-1, 28, 28, 1)"
   ]
  },
  {
   "cell_type": "code",
   "execution_count": 3,
   "metadata": {},
   "outputs": [
    {
     "name": "stdout",
     "output_type": "stream",
     "text": [
      "Epoch 1/5\n",
      "1875/1875 [==============================] - 9s 4ms/step - loss: 0.1745 - accuracy: 0.9496 - val_loss: 0.0839 - val_accuracy: 0.9755\n",
      "Epoch 2/5\n",
      "1875/1875 [==============================] - 9s 5ms/step - loss: 0.0657 - accuracy: 0.9803 - val_loss: 0.0635 - val_accuracy: 0.9812\n",
      "Epoch 3/5\n",
      "1875/1875 [==============================] - 9s 5ms/step - loss: 0.0459 - accuracy: 0.9863 - val_loss: 0.0586 - val_accuracy: 0.9818\n",
      "Epoch 4/5\n",
      "1875/1875 [==============================] - 9s 5ms/step - loss: 0.0333 - accuracy: 0.9899 - val_loss: 0.0668 - val_accuracy: 0.9790\n",
      "Epoch 5/5\n",
      "1875/1875 [==============================] - 9s 5ms/step - loss: 0.0256 - accuracy: 0.9920 - val_loss: 0.0615 - val_accuracy: 0.9820\n"
     ]
    },
    {
     "data": {
      "text/plain": [
       "<keras.callbacks.History at 0x2bd578cba90>"
      ]
     },
     "execution_count": 3,
     "metadata": {},
     "output_type": "execute_result"
    }
   ],
   "source": [
    "# Train the model\n",
    "model.fit(x_train, y_train, epochs=5, batch_size=32, validation_data=(x_test, y_test))"
   ]
  },
  {
   "cell_type": "markdown",
   "metadata": {},
   "source": [
    "Convert and Quantize the Model to TFLite\n",
    "\n",
    "The tf.lite.TFLiteConverter with tf.lite.Optimize.DEFAULT optimizes the model, including quantization to int8. This is done during the conversion to TFLite format."
   ]
  },
  {
   "cell_type": "code",
   "execution_count": 10,
   "metadata": {},
   "outputs": [
    {
     "name": "stderr",
     "output_type": "stream",
     "text": [
      "WARNING:absl:Found untraced functions such as _jit_compiled_convolution_op while saving (showing 1 of 1). These functions will not be directly callable after loading.\n"
     ]
    },
    {
     "name": "stdout",
     "output_type": "stream",
     "text": [
      "INFO:tensorflow:Assets written to: C:\\Users\\srico\\AppData\\Local\\Temp\\tmp0ifj8r7v\\assets\n"
     ]
    },
    {
     "name": "stderr",
     "output_type": "stream",
     "text": [
      "INFO:tensorflow:Assets written to: C:\\Users\\srico\\AppData\\Local\\Temp\\tmp0ifj8r7v\\assets\n",
      "c:\\Users\\srico\\AppData\\Local\\Programs\\Python\\Python310\\lib\\site-packages\\tensorflow\\lite\\python\\convert.py:766: UserWarning: Statistics for quantized inputs were expected, but not specified; continuing anyway.\n",
      "  warnings.warn(\"Statistics for quantized inputs were expected, but not \"\n"
     ]
    }
   ],
   "source": [
    "# Ensure the data is in FLOAT32 format\n",
    "x_train = x_train.reshape(-1, 28, 28, 1).astype('float32')\n",
    "x_test = x_test.reshape(-1, 28, 28, 1).astype('float32')\n",
    "\n",
    "# Provide a representative dataset for better quantization\n",
    "def representative_data_gen():\n",
    "    for input_value in tf.data.Dataset.from_tensor_slices(x_train).batch(1).take(100):\n",
    "        yield [input_value]\n",
    "\n",
    "# Convert the model to TensorFlow Lite format with quantization\n",
    "converter = tf.lite.TFLiteConverter.from_keras_model(model)\n",
    "converter.optimizations = [tf.lite.Optimize.DEFAULT]\n",
    "converter.target_spec.supported_ops = [tf.lite.OpsSet.TFLITE_BUILTINS_INT8]\n",
    "converter.representative_dataset = representative_data_gen\n",
    "\n",
    "tflite_model = converter.convert()\n",
    "\n",
    "# Save the quantized model\n",
    "with open('model_quantized.tflite', 'wb') as f:\n",
    "    f.write(tflite_model)"
   ]
  },
  {
   "cell_type": "markdown",
   "metadata": {},
   "source": [
    "Verify Quantization\n",
    "\n",
    "Use the TFLite interpreter to check if the model is quantized correctly to int8."
   ]
  },
  {
   "cell_type": "code",
   "execution_count": 12,
   "metadata": {},
   "outputs": [
    {
     "name": "stdout",
     "output_type": "stream",
     "text": [
      "Input type: <class 'numpy.float32'>\n",
      "Output type: <class 'numpy.float32'>\n",
      "Tensor serving_default_conv2d_input:0 type: float32\n",
      "Tensor sequential/flatten/Const type: int32\n",
      "Tensor sequential/dense/BiasAdd/ReadVariableOp type: int32\n",
      "Tensor sequential/dense/MatMul type: int8\n",
      "Tensor sequential/conv2d/BiasAdd/ReadVariableOp type: int32\n",
      "Tensor sequential/conv2d/Conv2D type: int8\n",
      "Tensor tfl.quantize type: int8\n",
      "Tensor sequential/conv2d/Relu;sequential/conv2d/BiasAdd;sequential/conv2d/Conv2D;sequential/conv2d/BiasAdd/ReadVariableOp type: int8\n",
      "Tensor sequential/flatten/Reshape type: int8\n",
      "Tensor sequential/dense/MatMul;sequential/dense/BiasAdd type: int8\n",
      "Tensor StatefulPartitionedCall:01 type: int8\n",
      "Tensor StatefulPartitionedCall:0 type: float32\n",
      "Tensor  type: int8\n"
     ]
    }
   ],
   "source": [
    "import numpy as np\n",
    "\n",
    "# Load the quantized TFLite model\n",
    "interpreter = tf.lite.Interpreter(model_path='model_quantized.tflite')\n",
    "interpreter.allocate_tensors()\n",
    "\n",
    "# Get input and output details\n",
    "input_details = interpreter.get_input_details()\n",
    "output_details = interpreter.get_output_details()\n",
    "\n",
    "# Check if the input and output tensors are int8\n",
    "print(f\"Input type: {input_details[0]['dtype']}\")\n",
    "print(f\"Output type: {output_details[0]['dtype']}\")\n",
    "\n",
    "# Check if intermediate tensors are int8\n",
    "for detail in interpreter.get_tensor_details():\n",
    "    tensor = interpreter.tensor(detail['index'])()\n",
    "    print(f\"Tensor {detail['name']} type: {tensor.dtype}\")"
   ]
  },
  {
   "cell_type": "code",
   "execution_count": 13,
   "metadata": {},
   "outputs": [
    {
     "name": "stdout",
     "output_type": "stream",
     "text": [
      "Input scale: 0.0, zero point: 0\n",
      "Output scale: 0.0, zero point: 0\n",
      "Filter scale: [0.00458585 0.00083913 0.00345411 0.0079803  0.0006902  0.00072748\n",
      " 0.00352251 0.00235633 0.0036677  0.00163086 0.0060626  0.00498375\n",
      " 0.00565246 0.00654385 0.00211097 0.00171206 0.00551453 0.00431368\n",
      " 0.00302073 0.00298816 0.00207585 0.00535683 0.00388202 0.00146785\n",
      " 0.00416391 0.00835785 0.00572529 0.00205417 0.00353958 0.00174995\n",
      " 0.00310315 0.00222287], zero point: [0 0 0 0 0 0 0 0 0 0 0 0 0 0 0 0 0 0 0 0 0 0 0 0 0 0 0 0 0 0 0 0]\n"
     ]
    }
   ],
   "source": [
    "# Example: Get quantization parameters for the input layer\n",
    "input_scale, input_zero_point = input_details[0]['quantization']\n",
    "\n",
    "# Example: Get quantization parameters for the output layer\n",
    "output_scale, output_zero_point = output_details[0]['quantization']\n",
    "\n",
    "print(f\"Input scale: {input_scale}, zero point: {input_zero_point}\")\n",
    "print(f\"Output scale: {output_scale}, zero point: {output_zero_point}\")\n",
    "\n",
    "# Extract filter and bias quantization parameters\n",
    "for i, detail in enumerate(interpreter.get_tensor_details()):\n",
    "    if 'Conv2D' in detail['name']:\n",
    "        filter_quant_params = detail['quantization_parameters']\n",
    "        filter_scale = filter_quant_params['scales']\n",
    "        filter_zero_point = filter_quant_params['zero_points']\n",
    "        break\n",
    "\n",
    "print(f\"Filter scale: {filter_scale}, zero point: {filter_zero_point}\")"
   ]
  },
  {
   "cell_type": "code",
   "execution_count": null,
   "metadata": {},
   "outputs": [],
   "source": []
  }
 ],
 "metadata": {
  "kernelspec": {
   "display_name": "Python 3",
   "language": "python",
   "name": "python3"
  },
  "language_info": {
   "codemirror_mode": {
    "name": "ipython",
    "version": 3
   },
   "file_extension": ".py",
   "mimetype": "text/x-python",
   "name": "python",
   "nbconvert_exporter": "python",
   "pygments_lexer": "ipython3",
   "version": "3.10.5"
  }
 },
 "nbformat": 4,
 "nbformat_minor": 2
}
